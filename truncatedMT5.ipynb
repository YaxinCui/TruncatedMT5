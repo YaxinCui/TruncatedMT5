{
 "cells": [
  {
   "cell_type": "code",
   "execution_count": 1,
   "metadata": {},
   "outputs": [],
   "source": [
    "from transformers import AutoTokenizer, AutoModelForSeq2SeqLM"
   ]
  },
  {
   "cell_type": "code",
   "execution_count": 2,
   "metadata": {},
   "outputs": [],
   "source": [
    "truncatedModelPath = \"truncatedModel\"\n",
    "\n",
    "truncatedTokenizer = AutoTokenizer.from_pretrained(truncatedModelPath)\n",
    "\n",
    "\n",
    "fullMT5Name = \"google/mt5-small\"\n",
    "\n",
    "fullModel = AutoModelForSeq2SeqLM.from_pretrained(fullMT5Name)\n",
    "fullTokenizer = AutoTokenizer.from_pretrained(fullMT5Name)"
   ]
  },
  {
   "cell_type": "code",
   "execution_count": null,
   "metadata": {},
   "outputs": [],
   "source": []
  },
  {
   "cell_type": "code",
   "execution_count": 6,
   "metadata": {},
   "outputs": [],
   "source": [
    "keepTokens = truncatedTokenizer.convert_ids_to_tokens([i for i in range(truncatedTokenizer.vocab_size)])\n",
    "keepIdInFull = fullTokenizer.convert_tokens_to_ids(keepTokens)\n",
    "\n",
    "from copy import deepcopy\n",
    "truncatedModel = deepcopy(fullModel)\n",
    "truncatedModel.config.vocab_size=len(keepTokens)"
   ]
  },
  {
   "cell_type": "code",
   "execution_count": 8,
   "metadata": {},
   "outputs": [],
   "source": [
    "from torch import nn\n",
    "\n",
    "truncatedModel.encoder.embed_tokens = nn.Embedding(len(keepTokens), truncatedModel.config.hidden_size)\n",
    "truncatedModel.encoder.embed_tokens.data = fullModel.encoder.embed_tokens.weight[keepIdInFull].detach().numpy()\n",
    "\n",
    "truncatedModel.shared = truncatedModel.encoder.embed_tokens\n",
    "\n",
    "truncatedModel.decoder.embed_tokens = nn.Embedding(len(keepTokens), truncatedModel.config.hidden_size)\n",
    "truncatedModel.decoder.embed_tokens.data = fullModel.decoder.embed_tokens.weight[keepIdInFull].detach().numpy()\n",
    "\n",
    "truncatedModel.shared = truncatedModel.decoder.embed_tokens\n",
    "\n",
    "truncatedModel.lm_head = nn.Linear(truncatedModel.config.hidden_size, truncatedModel.config.vocab_size, bias=False)\n",
    "truncatedModel.lm_head.weight.data = fullModel.lm_head.weight.data[keepIdInFull]"
   ]
  },
  {
   "cell_type": "code",
   "execution_count": null,
   "metadata": {},
   "outputs": [],
   "source": [
    "print(truncatedModel)"
   ]
  },
  {
   "cell_type": "code",
   "execution_count": 10,
   "metadata": {},
   "outputs": [],
   "source": [
    "truncatedModel.save_pretrained(truncatedModelPath)"
   ]
  }
 ],
 "metadata": {
  "interpreter": {
   "hash": "4262922743ee1db9ee96e18dc118d647a390b2a8401ca1a6a098b56f8b39a228"
  },
  "kernelspec": {
   "display_name": "Python 3.8.12 ('baidu')",
   "language": "python",
   "name": "python3"
  },
  "language_info": {
   "codemirror_mode": {
    "name": "ipython",
    "version": 3
   },
   "file_extension": ".py",
   "mimetype": "text/x-python",
   "name": "python",
   "nbconvert_exporter": "python",
   "pygments_lexer": "ipython3",
   "version": "3.8.12"
  },
  "orig_nbformat": 4
 },
 "nbformat": 4,
 "nbformat_minor": 2
}
